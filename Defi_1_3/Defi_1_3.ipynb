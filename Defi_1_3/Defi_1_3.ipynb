{
 "cells": [
  {
   "cell_type": "markdown",
   "metadata": {
    "colab_type": "text",
    "id": "view-in-github"
   },
   "source": [
    "<a href=\"https://colab.research.google.com/github/Pierre-Loic/ADL_module_Python_datascience/blob/master/Defi_1_3.ipynb\" target=\"_parent\"><img src=\"https://colab.research.google.com/assets/colab-badge.svg\" alt=\"Open In Colab\"/></a>"
   ]
  },
  {
   "cell_type": "markdown",
   "metadata": {
    "colab_type": "text",
    "id": "k7X8nbMu8m_I"
   },
   "source": [
    "# Défi des parties 1 à 3"
   ]
  },
  {
   "cell_type": "markdown",
   "metadata": {
    "colab_type": "text",
    "id": "9IOe4z968m_L"
   },
   "source": [
    "Le but de l'exercice est de collecter deux sources de données et de les rassembler en une seule. Il n'y a pas besoin de librairies externes pour résoudre cet exercice."
   ]
  },
  {
   "cell_type": "markdown",
   "metadata": {
    "colab_type": "text",
    "id": "LRPxNS8K8m_M"
   },
   "source": [
    "1 - Collecte de la donnée\n",
    "- Récupérer les données du fichier JSON \"data.json\" dans une structure de données Python (list, dict,...)\n",
    "- Récupérer les données du fichier CSV \"data.csv\" dans une structure de données Python (list, dict,...)\n",
    "- Concaténer les deux structures de données"
   ]
  },
  {
   "cell_type": "code",
   "execution_count": 1,
   "metadata": {
    "colab": {},
    "colab_type": "code",
    "id": "c6JmHxez8m_O"
   },
   "outputs": [
    {
     "name": "stdout",
     "output_type": "stream",
     "text": [
      "[['date', {'0': '10/02/20', '1': '20/03/20', '2': '15/04/20', '3': '19/04/20', '4': '17/05/20'}], ['depenses', {'0': 120, '1': 150, '2': 50, '3': 210, '4': 167}], {'date': '10/02/20', 'depenses': '120'}, {'date': '20/03/20', 'depenses': '150'}, {'date': '15/04/20', 'depenses': '50'}, {'date': '19/04/20', 'depenses': '210'}, {'date': '17/05/20', 'depenses': '167'}]\n"
     ]
    }
   ],
   "source": [
    "import json\n",
    "import csv\n",
    "import datetime\n",
    "\n",
    "input_file=open('data.json', 'r')\n",
    "D1 = json.load(input_file)\n",
    "L1 = list()\n",
    "for key, value in D1.items():\n",
    "    temp = [key,value]\n",
    "    L1.append(temp)\n",
    "#print(L1)\n",
    "\n",
    "\n",
    "L2 = []\n",
    "with open('data.csv') as File:\n",
    "    reader = csv.DictReader(File)\n",
    "    for row in reader:\n",
    "        L2.append(row)\n",
    "    #print (L2 )\n",
    "    \n",
    "L = L1+L2\n",
    "print (L)\n",
    "\n"
   ]
  },
  {
   "cell_type": "markdown",
   "metadata": {
    "colab_type": "text",
    "id": "LJilwaPc8m_b"
   },
   "source": [
    "2 - Stockage des résultats\n",
    "- Créer un fichier JSON avec l'ensemble des données\n",
    "- Créer un fichier CSV avec l'ensemble des données"
   ]
  },
  {
   "cell_type": "code",
   "execution_count": 2,
   "metadata": {
    "colab": {},
    "colab_type": "code",
    "id": "U74wxwUe8m_d"
   },
   "outputs": [
    {
     "ename": "PermissionError",
     "evalue": "[Errno 13] Permission denied: 'abc.csv'",
     "output_type": "error",
     "traceback": [
      "\u001b[1;31m---------------------------------------------------------------------------\u001b[0m",
      "\u001b[1;31mPermissionError\u001b[0m                           Traceback (most recent call last)",
      "\u001b[1;32m<ipython-input-2-dc5c4a347189>\u001b[0m in \u001b[0;36m<module>\u001b[1;34m\u001b[0m\n\u001b[0;32m      4\u001b[0m     \u001b[0mjson\u001b[0m\u001b[1;33m.\u001b[0m\u001b[0mdump\u001b[0m\u001b[1;33m(\u001b[0m\u001b[0mL\u001b[0m\u001b[1;33m,\u001b[0m \u001b[0moutfile\u001b[0m\u001b[1;33m,\u001b[0m \u001b[0mindent\u001b[0m\u001b[1;33m=\u001b[0m\u001b[1;36m4\u001b[0m\u001b[1;33m)\u001b[0m\u001b[1;33m\u001b[0m\u001b[1;33m\u001b[0m\u001b[0m\n\u001b[0;32m      5\u001b[0m \u001b[1;33m\u001b[0m\u001b[0m\n\u001b[1;32m----> 6\u001b[1;33m \u001b[1;32mwith\u001b[0m \u001b[0mopen\u001b[0m\u001b[1;33m(\u001b[0m\u001b[1;34m'abc.csv'\u001b[0m\u001b[1;33m,\u001b[0m \u001b[1;34m'w'\u001b[0m\u001b[1;33m)\u001b[0m \u001b[1;32mas\u001b[0m \u001b[0moutfile\u001b[0m\u001b[1;33m:\u001b[0m\u001b[1;33m\u001b[0m\u001b[1;33m\u001b[0m\u001b[0m\n\u001b[0m\u001b[0;32m      7\u001b[0m     \u001b[0mwrite\u001b[0m \u001b[1;33m=\u001b[0m \u001b[0mcsv\u001b[0m\u001b[1;33m.\u001b[0m\u001b[0mwriter\u001b[0m\u001b[1;33m(\u001b[0m\u001b[0moutfile\u001b[0m\u001b[1;33m)\u001b[0m\u001b[1;33m\u001b[0m\u001b[1;33m\u001b[0m\u001b[0m\n\u001b[0;32m      8\u001b[0m     \u001b[0mwrite\u001b[0m\u001b[1;33m.\u001b[0m\u001b[0mwriterow\u001b[0m\u001b[1;33m(\u001b[0m\u001b[0mL\u001b[0m\u001b[1;33m)\u001b[0m\u001b[1;33m\u001b[0m\u001b[1;33m\u001b[0m\u001b[0m\n",
      "\u001b[1;31mPermissionError\u001b[0m: [Errno 13] Permission denied: 'abc.csv'"
     ]
    }
   ],
   "source": [
    "import json\n",
    "\n",
    "with open('abc.json', 'w') as outfile:\n",
    "    json.dump(L, outfile, indent=4)\n",
    "    \n",
    "with open('abc.csv', 'w') as outfile:\n",
    "    write = csv.writer(outfile)\n",
    "    write.writerow(L)\n",
    "    "
   ]
  },
  {
   "cell_type": "markdown",
   "metadata": {
    "colab_type": "text",
    "id": "TDgF0lNx8m_i"
   },
   "source": [
    "3 - Présentation des résultats\n",
    "- Créer un compte Github (si vous ne l'avez pas déjà fait)  ->  [lien vers Github](https://github.com/)\n",
    "- Créer un repository pour les notebooks des exercices de ce module\n",
    "- Créer une version web de votre notebook (statique ou interactive)"
   ]
  },
  {
   "cell_type": "code",
   "execution_count": null,
   "metadata": {
    "colab": {},
    "colab_type": "code",
    "id": "B70JqqrN8m_l"
   },
   "outputs": [],
   "source": []
  }
 ],
 "metadata": {
  "colab": {
   "include_colab_link": true,
   "name": "Defi_1-3.ipynb",
   "provenance": []
  },
  "kernelspec": {
   "display_name": "Python 3",
   "language": "python",
   "name": "python3"
  },
  "language_info": {
   "codemirror_mode": {
    "name": "ipython",
    "version": 3
   },
   "file_extension": ".py",
   "mimetype": "text/x-python",
   "name": "python",
   "nbconvert_exporter": "python",
   "pygments_lexer": "ipython3",
   "version": "3.9.0"
  }
 },
 "nbformat": 4,
 "nbformat_minor": 1
}
